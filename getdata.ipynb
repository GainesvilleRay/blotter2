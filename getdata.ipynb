{
 "cells": [
  {
   "cell_type": "code",
   "execution_count": 1,
   "metadata": {},
   "outputs": [],
   "source": [
    "#!/usr/bin/env python\n",
    "\n",
    "# make sure to install these packages before running:\n",
    "# pip install pandas\n",
    "# pip install sodapy\n",
    "\n",
    "import pandas as pd\n",
    "from sodapy import Socrata"
   ]
  },
  {
   "cell_type": "code",
   "execution_count": 2,
   "metadata": {},
   "outputs": [
    {
     "name": "stderr",
     "output_type": "stream",
     "text": [
      "WARNING:root:Requests made without an app_token will be subject to strict throttling limits.\n"
     ]
    }
   ],
   "source": [
    "# Unauthenticated client only works with public data sets. Note 'None'\n",
    "# in place of application token, and no username or password:\n",
    "client = Socrata(\"data.cityofgainesville.org\", None)\n",
    "\n",
    "# Example authenticated client (needed for non-public datasets):\n",
    "# client = Socrata(data.cityofgainesville.org,\n",
    "#                  MyAppToken,\n",
    "#                  userame=\"user@example.com\",\n",
    "#                  password=\"AFakePassword\")\n",
    "\n",
    "# First 2000 results, returned as JSON from API / converted to Python list of\n",
    "# dictionaries by sodapy.\n",
    "#results = client.get(\"gvua-xt9q\", limit=2000)\n",
    "results = client.get(\"gvua-xt9q\", where=\"id >= 220000049\")\n",
    "\n",
    "# Convert to pandas DataFrame\n",
    "results_df = pd.DataFrame.from_records(results)\n"
   ]
  },
  {
   "cell_type": "code",
   "execution_count": 10,
   "metadata": {},
   "outputs": [
    {
     "data": {
      "text/plain": [
       "['ID',\n",
       " 'Incident Type',\n",
       " 'Report Date',\n",
       " 'Offense Date',\n",
       " 'Report Hour of Day',\n",
       " 'Report Day of Week',\n",
       " 'Offense Hour of Day',\n",
       " 'Offense Day of Week',\n",
       " 'City',\n",
       " 'State',\n",
       " 'Address',\n",
       " 'Latitude',\n",
       " 'Zip Code Boundaries',\n",
       " 'Longitude',\n",
       " 'Location',\n",
       " '2010 Census Tracts',\n",
       " 'Commission Districts',\n",
       " 'Gainesville Police Districts',\n",
       " 'Florida Census Zip Codes',\n",
       " ':@computed_region_9cfm_spy5',\n",
       " ':@computed_region_43jd_v64e',\n",
       " ':@computed_region_ndi2_bfht']"
      ]
     },
     "execution_count": 10,
     "metadata": {},
     "output_type": "execute_result"
    }
   ],
   "source": [
    "metadata = client.get_metadata(\"gvua-xt9q\")\n",
    "[x['name'] for x in metadata['columns']]"
   ]
  },
  {
   "cell_type": "code",
   "execution_count": 11,
   "metadata": {},
   "outputs": [
    {
     "data": {
      "text/plain": [
       "{'id': 416647759,\n",
       " 'name': 'Report Date',\n",
       " 'dataTypeName': 'calendar_date',\n",
       " 'description': 'Date and time that the incident report was filed. ',\n",
       " 'fieldName': 'report_date',\n",
       " 'position': 3,\n",
       " 'renderTypeName': 'calendar_date',\n",
       " 'tableColumnId': 22979343,\n",
       " 'width': 220,\n",
       " 'cachedContents': {'largest': '2020-01-10T00:18:43.000',\n",
       "  'non_null': '153322',\n",
       "  'null': '0',\n",
       "  'top': [{'item': '2019-08-26T00:00:00.000', 'count': '12'},\n",
       "   {'item': '2018-09-10T00:00:00.000', 'count': '12'},\n",
       "   {'item': '2015-11-30T00:00:00.000', 'count': '12'},\n",
       "   {'item': '2018-10-22T00:00:00.000', 'count': '12'},\n",
       "   {'item': '2018-11-14T00:00:00.000', 'count': '12'},\n",
       "   {'item': '2017-09-05T00:00:00.000', 'count': '12'},\n",
       "   {'item': '2018-10-19T00:00:00.000', 'count': '12'},\n",
       "   {'item': '2019-05-08T00:00:00.000', 'count': '11'},\n",
       "   {'item': '2019-04-24T00:00:00.000', 'count': '11'},\n",
       "   {'item': '2019-01-14T00:00:00.000', 'count': '11'},\n",
       "   {'item': '2011-01-25T00:00:00.000', 'count': '11'},\n",
       "   {'item': '2018-08-27T00:00:00.000', 'count': '11'},\n",
       "   {'item': '2016-01-26T00:00:00.000', 'count': '11'},\n",
       "   {'item': '2019-09-09T00:00:00.000', 'count': '11'},\n",
       "   {'item': '2016-10-31T00:00:00.000', 'count': '11'},\n",
       "   {'item': '2018-04-23T00:00:00.000', 'count': '11'},\n",
       "   {'item': '2019-12-02T00:00:00.000', 'count': '10'},\n",
       "   {'item': '2019-11-22T00:00:00.000', 'count': '10'},\n",
       "   {'item': '2019-10-01T00:00:00.000', 'count': '10'},\n",
       "   {'item': '2015-09-28T00:00:00.000', 'count': '10'}],\n",
       "  'not_null': '151622',\n",
       "  'smallest': '2011-01-01T00:27:00.000',\n",
       "  'cardinality': '147708'},\n",
       " 'format': {'view': 'date_time', 'align': 'left'}}"
      ]
     },
     "execution_count": 11,
     "metadata": {},
     "output_type": "execute_result"
    }
   ],
   "source": [
    "meta_date = [x for x in metadata['columns'] if x['name'] == 'Report Date'][0]\n",
    "meta_date"
   ]
  },
  {
   "cell_type": "code",
   "execution_count": 30,
   "metadata": {},
   "outputs": [
    {
     "ename": "HTTPError",
     "evalue": "400 Client Error: Bad Request.\n\tCould not parse SoQL query \"select * where offense_date >= 2019-12-31T20:00:00.000\" at line 1 character 42",
     "output_type": "error",
     "traceback": [
      "\u001b[0;31m---------------------------------------------------------------------------\u001b[0m",
      "\u001b[0;31mHTTPError\u001b[0m                                 Traceback (most recent call last)",
      "\u001b[0;32m<ipython-input-30-1186391c2d5a>\u001b[0m in \u001b[0;36m<module>\u001b[0;34m\u001b[0m\n\u001b[1;32m      1\u001b[0m \u001b[0mquery\u001b[0m \u001b[0;34m=\u001b[0m \u001b[0;34m\"\"\u001b[0m\u001b[0;34m\u001b[0m\u001b[0;34m\u001b[0m\u001b[0m\n\u001b[0;32m----> 2\u001b[0;31m \u001b[0mresults\u001b[0m \u001b[0;34m=\u001b[0m \u001b[0mclient\u001b[0m\u001b[0;34m.\u001b[0m\u001b[0mget\u001b[0m\u001b[0;34m(\u001b[0m\u001b[0;34m\"gvua-xt9q\"\u001b[0m\u001b[0;34m,\u001b[0m \u001b[0mwhere\u001b[0m\u001b[0;34m=\u001b[0m\u001b[0;34m\"offense_date >= 2019-12-31T20:00:00.000\"\u001b[0m\u001b[0;34m)\u001b[0m\u001b[0;34m\u001b[0m\u001b[0;34m\u001b[0m\u001b[0m\n\u001b[0m\u001b[1;32m      3\u001b[0m \u001b[0mresults\u001b[0m\u001b[0;34m\u001b[0m\u001b[0;34m\u001b[0m\u001b[0m\n",
      "\u001b[0;32m~/anaconda3/lib/python3.7/site-packages/sodapy/__init__.py\u001b[0m in \u001b[0;36mget\u001b[0;34m(self, dataset_identifier, content_type, **kwargs)\u001b[0m\n\u001b[1;32m    354\u001b[0m \u001b[0;34m\u001b[0m\u001b[0m\n\u001b[1;32m    355\u001b[0m         response = self._perform_request(\"get\", resource, headers=headers,\n\u001b[0;32m--> 356\u001b[0;31m                                          params=params)\n\u001b[0m\u001b[1;32m    357\u001b[0m         \u001b[0;32mreturn\u001b[0m \u001b[0mresponse\u001b[0m\u001b[0;34m\u001b[0m\u001b[0;34m\u001b[0m\u001b[0m\n\u001b[1;32m    358\u001b[0m \u001b[0;34m\u001b[0m\u001b[0m\n",
      "\u001b[0;32m~/anaconda3/lib/python3.7/site-packages/sodapy/__init__.py\u001b[0m in \u001b[0;36m_perform_request\u001b[0;34m(self, request_type, resource, **kwargs)\u001b[0m\n\u001b[1;32m    463\u001b[0m         \u001b[0;31m# handle errors\u001b[0m\u001b[0;34m\u001b[0m\u001b[0;34m\u001b[0m\u001b[0;34m\u001b[0m\u001b[0m\n\u001b[1;32m    464\u001b[0m         \u001b[0;32mif\u001b[0m \u001b[0mresponse\u001b[0m\u001b[0;34m.\u001b[0m\u001b[0mstatus_code\u001b[0m \u001b[0;32mnot\u001b[0m \u001b[0;32min\u001b[0m \u001b[0;34m(\u001b[0m\u001b[0;36m200\u001b[0m\u001b[0;34m,\u001b[0m \u001b[0;36m202\u001b[0m\u001b[0;34m)\u001b[0m\u001b[0;34m:\u001b[0m\u001b[0;34m\u001b[0m\u001b[0;34m\u001b[0m\u001b[0m\n\u001b[0;32m--> 465\u001b[0;31m             \u001b[0m_raise_for_status\u001b[0m\u001b[0;34m(\u001b[0m\u001b[0mresponse\u001b[0m\u001b[0;34m)\u001b[0m\u001b[0;34m\u001b[0m\u001b[0;34m\u001b[0m\u001b[0m\n\u001b[0m\u001b[1;32m    466\u001b[0m \u001b[0;34m\u001b[0m\u001b[0m\n\u001b[1;32m    467\u001b[0m         \u001b[0;31m# when responses have no content body (ie. delete, set_permission),\u001b[0m\u001b[0;34m\u001b[0m\u001b[0;34m\u001b[0m\u001b[0;34m\u001b[0m\u001b[0m\n",
      "\u001b[0;32m~/anaconda3/lib/python3.7/site-packages/sodapy/__init__.py\u001b[0m in \u001b[0;36m_raise_for_status\u001b[0;34m(response)\u001b[0m\n\u001b[1;32m    517\u001b[0m         \u001b[0;32mif\u001b[0m \u001b[0mmore_info\u001b[0m \u001b[0;32mand\u001b[0m \u001b[0mmore_info\u001b[0m\u001b[0;34m.\u001b[0m\u001b[0mlower\u001b[0m\u001b[0;34m(\u001b[0m\u001b[0;34m)\u001b[0m \u001b[0;34m!=\u001b[0m \u001b[0mresponse\u001b[0m\u001b[0;34m.\u001b[0m\u001b[0mreason\u001b[0m\u001b[0;34m.\u001b[0m\u001b[0mlower\u001b[0m\u001b[0;34m(\u001b[0m\u001b[0;34m)\u001b[0m\u001b[0;34m:\u001b[0m\u001b[0;34m\u001b[0m\u001b[0;34m\u001b[0m\u001b[0m\n\u001b[1;32m    518\u001b[0m             \u001b[0mhttp_error_msg\u001b[0m \u001b[0;34m+=\u001b[0m \u001b[0;34m\".\\n\\t{0}\"\u001b[0m\u001b[0;34m.\u001b[0m\u001b[0mformat\u001b[0m\u001b[0;34m(\u001b[0m\u001b[0mmore_info\u001b[0m\u001b[0;34m)\u001b[0m\u001b[0;34m\u001b[0m\u001b[0;34m\u001b[0m\u001b[0m\n\u001b[0;32m--> 519\u001b[0;31m         \u001b[0;32mraise\u001b[0m \u001b[0mrequests\u001b[0m\u001b[0;34m.\u001b[0m\u001b[0mexceptions\u001b[0m\u001b[0;34m.\u001b[0m\u001b[0mHTTPError\u001b[0m\u001b[0;34m(\u001b[0m\u001b[0mhttp_error_msg\u001b[0m\u001b[0;34m,\u001b[0m \u001b[0mresponse\u001b[0m\u001b[0;34m=\u001b[0m\u001b[0mresponse\u001b[0m\u001b[0;34m)\u001b[0m\u001b[0;34m\u001b[0m\u001b[0;34m\u001b[0m\u001b[0m\n\u001b[0m\u001b[1;32m    520\u001b[0m \u001b[0;34m\u001b[0m\u001b[0m\n\u001b[1;32m    521\u001b[0m \u001b[0;34m\u001b[0m\u001b[0m\n",
      "\u001b[0;31mHTTPError\u001b[0m: 400 Client Error: Bad Request.\n\tCould not parse SoQL query \"select * where offense_date >= 2019-12-31T20:00:00.000\" at line 1 character 42"
     ]
    }
   ],
   "source": [
    "query = \"\"\n",
    "results = client.get(\"gvua-xt9q\", where=\"offense_date >= 2019-12-31T20:00:00.000\")\n",
    "results"
   ]
  },
  {
   "cell_type": "code",
   "execution_count": 6,
   "metadata": {},
   "outputs": [
    {
     "data": {
      "text/html": [
       "<div>\n",
       "<style scoped>\n",
       "    .dataframe tbody tr th:only-of-type {\n",
       "        vertical-align: middle;\n",
       "    }\n",
       "\n",
       "    .dataframe tbody tr th {\n",
       "        vertical-align: top;\n",
       "    }\n",
       "\n",
       "    .dataframe thead th {\n",
       "        text-align: right;\n",
       "    }\n",
       "</style>\n",
       "<table border=\"1\" class=\"dataframe\">\n",
       "  <thead>\n",
       "    <tr style=\"text-align: right;\">\n",
       "      <th></th>\n",
       "      <th>id</th>\n",
       "      <th>narrative</th>\n",
       "      <th>report_date</th>\n",
       "      <th>offense_date</th>\n",
       "      <th>report_hour_of_day</th>\n",
       "      <th>report_day_of_week</th>\n",
       "      <th>offense_hour_of_day</th>\n",
       "      <th>offense_day_of_week</th>\n",
       "      <th>city</th>\n",
       "      <th>state</th>\n",
       "      <th>address</th>\n",
       "      <th>latitude</th>\n",
       "      <th>longitude</th>\n",
       "      <th>location</th>\n",
       "    </tr>\n",
       "  </thead>\n",
       "  <tbody>\n",
       "    <tr>\n",
       "      <td>0</td>\n",
       "      <td>220000049</td>\n",
       "      <td>Missing Person</td>\n",
       "      <td>2020-01-02T12:58:34.000</td>\n",
       "      <td>2019-12-31T20:00:00.000</td>\n",
       "      <td>12</td>\n",
       "      <td>Thursday</td>\n",
       "      <td>20</td>\n",
       "      <td>Tuesday</td>\n",
       "      <td>GAINESVILLE</td>\n",
       "      <td>FL</td>\n",
       "      <td>2300 BLK NE 15TH ST</td>\n",
       "      <td>29.674186</td>\n",
       "      <td>-82.305838</td>\n",
       "      <td>{'type': 'Point', 'coordinates': [-82.305838, ...</td>\n",
       "    </tr>\n",
       "    <tr>\n",
       "      <td>1</td>\n",
       "      <td>220000051</td>\n",
       "      <td>Burglary to Business</td>\n",
       "      <td>2020-01-02T10:05:05.000</td>\n",
       "      <td>2019-12-31T16:00:04.000</td>\n",
       "      <td>10</td>\n",
       "      <td>Thursday</td>\n",
       "      <td>16</td>\n",
       "      <td>Tuesday</td>\n",
       "      <td>GAINESVILLE</td>\n",
       "      <td>FL</td>\n",
       "      <td>1900 BLK SE 4TH ST</td>\n",
       "      <td>29.634335</td>\n",
       "      <td>-82.316213</td>\n",
       "      <td>{'type': 'Point', 'coordinates': [-82.316213, ...</td>\n",
       "    </tr>\n",
       "    <tr>\n",
       "      <td>2</td>\n",
       "      <td>220000054</td>\n",
       "      <td>Theft Petit - From Building</td>\n",
       "      <td>2020-01-02T11:40:00.000</td>\n",
       "      <td>2019-12-29T22:15:00.000</td>\n",
       "      <td>11</td>\n",
       "      <td>Thursday</td>\n",
       "      <td>22</td>\n",
       "      <td>Sunday</td>\n",
       "      <td>GAINESVILLE</td>\n",
       "      <td>FL</td>\n",
       "      <td>1600 BLK NE WALDO RD</td>\n",
       "      <td>29.666748</td>\n",
       "      <td>-82.301682</td>\n",
       "      <td>{'type': 'Point', 'coordinates': [-82.301682, ...</td>\n",
       "    </tr>\n",
       "    <tr>\n",
       "      <td>3</td>\n",
       "      <td>220000055</td>\n",
       "      <td>Theft Grand - Retail</td>\n",
       "      <td>2020-01-02T11:52:00.000</td>\n",
       "      <td>2019-12-20T09:33:00.000</td>\n",
       "      <td>11</td>\n",
       "      <td>Thursday</td>\n",
       "      <td>9</td>\n",
       "      <td>Friday</td>\n",
       "      <td>GAINESVILLE</td>\n",
       "      <td>FL</td>\n",
       "      <td>3900 BLK SW ARCHER RD</td>\n",
       "      <td>29.62005</td>\n",
       "      <td>-82.381118</td>\n",
       "      <td>{'type': 'Point', 'coordinates': [-82.381118, ...</td>\n",
       "    </tr>\n",
       "    <tr>\n",
       "      <td>4</td>\n",
       "      <td>220000056</td>\n",
       "      <td>Disturbance</td>\n",
       "      <td>2020-01-02T13:35:52.000</td>\n",
       "      <td>2020-01-02T12:00:00.000</td>\n",
       "      <td>13</td>\n",
       "      <td>Thursday</td>\n",
       "      <td>12</td>\n",
       "      <td>Thursday</td>\n",
       "      <td>GAINESVILLE</td>\n",
       "      <td>FL</td>\n",
       "      <td>3000 BLK NE 20TH WAY</td>\n",
       "      <td>29.680284</td>\n",
       "      <td>-82.295934</td>\n",
       "      <td>{'type': 'Point', 'coordinates': [-82.295934, ...</td>\n",
       "    </tr>\n",
       "  </tbody>\n",
       "</table>\n",
       "</div>"
      ],
      "text/plain": [
       "          id                    narrative              report_date  \\\n",
       "0  220000049               Missing Person  2020-01-02T12:58:34.000   \n",
       "1  220000051         Burglary to Business  2020-01-02T10:05:05.000   \n",
       "2  220000054  Theft Petit - From Building  2020-01-02T11:40:00.000   \n",
       "3  220000055         Theft Grand - Retail  2020-01-02T11:52:00.000   \n",
       "4  220000056                  Disturbance  2020-01-02T13:35:52.000   \n",
       "\n",
       "              offense_date report_hour_of_day report_day_of_week  \\\n",
       "0  2019-12-31T20:00:00.000                 12           Thursday   \n",
       "1  2019-12-31T16:00:04.000                 10           Thursday   \n",
       "2  2019-12-29T22:15:00.000                 11           Thursday   \n",
       "3  2019-12-20T09:33:00.000                 11           Thursday   \n",
       "4  2020-01-02T12:00:00.000                 13           Thursday   \n",
       "\n",
       "  offense_hour_of_day offense_day_of_week         city state  \\\n",
       "0                  20             Tuesday  GAINESVILLE    FL   \n",
       "1                  16             Tuesday  GAINESVILLE    FL   \n",
       "2                  22              Sunday  GAINESVILLE    FL   \n",
       "3                   9              Friday  GAINESVILLE    FL   \n",
       "4                  12            Thursday  GAINESVILLE    FL   \n",
       "\n",
       "                 address   latitude   longitude  \\\n",
       "0    2300 BLK NE 15TH ST  29.674186  -82.305838   \n",
       "1     1900 BLK SE 4TH ST  29.634335  -82.316213   \n",
       "2   1600 BLK NE WALDO RD  29.666748  -82.301682   \n",
       "3  3900 BLK SW ARCHER RD   29.62005  -82.381118   \n",
       "4   3000 BLK NE 20TH WAY  29.680284  -82.295934   \n",
       "\n",
       "                                            location  \n",
       "0  {'type': 'Point', 'coordinates': [-82.305838, ...  \n",
       "1  {'type': 'Point', 'coordinates': [-82.316213, ...  \n",
       "2  {'type': 'Point', 'coordinates': [-82.301682, ...  \n",
       "3  {'type': 'Point', 'coordinates': [-82.381118, ...  \n",
       "4  {'type': 'Point', 'coordinates': [-82.295934, ...  "
      ]
     },
     "execution_count": 6,
     "metadata": {},
     "output_type": "execute_result"
    }
   ],
   "source": [
    "results_df.head()"
   ]
  },
  {
   "cell_type": "code",
   "execution_count": null,
   "metadata": {},
   "outputs": [],
   "source": []
  },
  {
   "cell_type": "code",
   "execution_count": 9,
   "metadata": {},
   "outputs": [
    {
     "ename": "HTTPError",
     "evalue": "400 Client Error: Bad Request.\n\tCould not parse SoQL query \"select * where offense_date == 2019-12-20T09:33:00.000\" at line 1 character 42",
     "output_type": "error",
     "traceback": [
      "\u001b[0;31m---------------------------------------------------------------------------\u001b[0m",
      "\u001b[0;31mHTTPError\u001b[0m                                 Traceback (most recent call last)",
      "\u001b[0;32m<ipython-input-9-788f24eb975b>\u001b[0m in \u001b[0;36m<module>\u001b[0;34m\u001b[0m\n\u001b[0;32m----> 1\u001b[0;31m \u001b[0mresults2\u001b[0m \u001b[0;34m=\u001b[0m \u001b[0mclient\u001b[0m\u001b[0;34m.\u001b[0m\u001b[0mget\u001b[0m\u001b[0;34m(\u001b[0m\u001b[0;34m\"gvua-xt9q\"\u001b[0m\u001b[0;34m,\u001b[0m \u001b[0mwhere\u001b[0m\u001b[0;34m=\u001b[0m\u001b[0;34m\"offense_date == 2019-12-20T09:33:00.000\"\u001b[0m\u001b[0;34m)\u001b[0m\u001b[0;34m\u001b[0m\u001b[0;34m\u001b[0m\u001b[0m\n\u001b[0m",
      "\u001b[0;32m~/anaconda3/lib/python3.7/site-packages/sodapy/__init__.py\u001b[0m in \u001b[0;36mget\u001b[0;34m(self, dataset_identifier, content_type, **kwargs)\u001b[0m\n\u001b[1;32m    354\u001b[0m \u001b[0;34m\u001b[0m\u001b[0m\n\u001b[1;32m    355\u001b[0m         response = self._perform_request(\"get\", resource, headers=headers,\n\u001b[0;32m--> 356\u001b[0;31m                                          params=params)\n\u001b[0m\u001b[1;32m    357\u001b[0m         \u001b[0;32mreturn\u001b[0m \u001b[0mresponse\u001b[0m\u001b[0;34m\u001b[0m\u001b[0;34m\u001b[0m\u001b[0m\n\u001b[1;32m    358\u001b[0m \u001b[0;34m\u001b[0m\u001b[0m\n",
      "\u001b[0;32m~/anaconda3/lib/python3.7/site-packages/sodapy/__init__.py\u001b[0m in \u001b[0;36m_perform_request\u001b[0;34m(self, request_type, resource, **kwargs)\u001b[0m\n\u001b[1;32m    463\u001b[0m         \u001b[0;31m# handle errors\u001b[0m\u001b[0;34m\u001b[0m\u001b[0;34m\u001b[0m\u001b[0;34m\u001b[0m\u001b[0m\n\u001b[1;32m    464\u001b[0m         \u001b[0;32mif\u001b[0m \u001b[0mresponse\u001b[0m\u001b[0;34m.\u001b[0m\u001b[0mstatus_code\u001b[0m \u001b[0;32mnot\u001b[0m \u001b[0;32min\u001b[0m \u001b[0;34m(\u001b[0m\u001b[0;36m200\u001b[0m\u001b[0;34m,\u001b[0m \u001b[0;36m202\u001b[0m\u001b[0;34m)\u001b[0m\u001b[0;34m:\u001b[0m\u001b[0;34m\u001b[0m\u001b[0;34m\u001b[0m\u001b[0m\n\u001b[0;32m--> 465\u001b[0;31m             \u001b[0m_raise_for_status\u001b[0m\u001b[0;34m(\u001b[0m\u001b[0mresponse\u001b[0m\u001b[0;34m)\u001b[0m\u001b[0;34m\u001b[0m\u001b[0;34m\u001b[0m\u001b[0m\n\u001b[0m\u001b[1;32m    466\u001b[0m \u001b[0;34m\u001b[0m\u001b[0m\n\u001b[1;32m    467\u001b[0m         \u001b[0;31m# when responses have no content body (ie. delete, set_permission),\u001b[0m\u001b[0;34m\u001b[0m\u001b[0;34m\u001b[0m\u001b[0;34m\u001b[0m\u001b[0m\n",
      "\u001b[0;32m~/anaconda3/lib/python3.7/site-packages/sodapy/__init__.py\u001b[0m in \u001b[0;36m_raise_for_status\u001b[0;34m(response)\u001b[0m\n\u001b[1;32m    517\u001b[0m         \u001b[0;32mif\u001b[0m \u001b[0mmore_info\u001b[0m \u001b[0;32mand\u001b[0m \u001b[0mmore_info\u001b[0m\u001b[0;34m.\u001b[0m\u001b[0mlower\u001b[0m\u001b[0;34m(\u001b[0m\u001b[0;34m)\u001b[0m \u001b[0;34m!=\u001b[0m \u001b[0mresponse\u001b[0m\u001b[0;34m.\u001b[0m\u001b[0mreason\u001b[0m\u001b[0;34m.\u001b[0m\u001b[0mlower\u001b[0m\u001b[0;34m(\u001b[0m\u001b[0;34m)\u001b[0m\u001b[0;34m:\u001b[0m\u001b[0;34m\u001b[0m\u001b[0;34m\u001b[0m\u001b[0m\n\u001b[1;32m    518\u001b[0m             \u001b[0mhttp_error_msg\u001b[0m \u001b[0;34m+=\u001b[0m \u001b[0;34m\".\\n\\t{0}\"\u001b[0m\u001b[0;34m.\u001b[0m\u001b[0mformat\u001b[0m\u001b[0;34m(\u001b[0m\u001b[0mmore_info\u001b[0m\u001b[0;34m)\u001b[0m\u001b[0;34m\u001b[0m\u001b[0;34m\u001b[0m\u001b[0m\n\u001b[0;32m--> 519\u001b[0;31m         \u001b[0;32mraise\u001b[0m \u001b[0mrequests\u001b[0m\u001b[0;34m.\u001b[0m\u001b[0mexceptions\u001b[0m\u001b[0;34m.\u001b[0m\u001b[0mHTTPError\u001b[0m\u001b[0;34m(\u001b[0m\u001b[0mhttp_error_msg\u001b[0m\u001b[0;34m,\u001b[0m \u001b[0mresponse\u001b[0m\u001b[0;34m=\u001b[0m\u001b[0mresponse\u001b[0m\u001b[0;34m)\u001b[0m\u001b[0;34m\u001b[0m\u001b[0;34m\u001b[0m\u001b[0m\n\u001b[0m\u001b[1;32m    520\u001b[0m \u001b[0;34m\u001b[0m\u001b[0m\n\u001b[1;32m    521\u001b[0m \u001b[0;34m\u001b[0m\u001b[0m\n",
      "\u001b[0;31mHTTPError\u001b[0m: 400 Client Error: Bad Request.\n\tCould not parse SoQL query \"select * where offense_date == 2019-12-20T09:33:00.000\" at line 1 character 42"
     ]
    }
   ],
   "source": [
    "results2 = client.get(\"gvua-xt9q\", where=\"offense_date == 2019-12-20T09:33:00.000\")"
   ]
  },
  {
   "cell_type": "code",
   "execution_count": 3,
   "metadata": {},
   "outputs": [
    {
     "ename": "NameError",
     "evalue": "name 'socrata_dataset_identifier' is not defined",
     "output_type": "error",
     "traceback": [
      "\u001b[0;31m---------------------------------------------------------------------------\u001b[0m",
      "\u001b[0;31mNameError\u001b[0m                                 Traceback (most recent call last)",
      "\u001b[0;32m<ipython-input-3-6af9cc6926db>\u001b[0m in \u001b[0;36m<module>\u001b[0;34m\u001b[0m\n\u001b[1;32m      9\u001b[0m \"\"\"\n\u001b[1;32m     10\u001b[0m \u001b[0;34m\u001b[0m\u001b[0m\n\u001b[0;32m---> 11\u001b[0;31m \u001b[0mresults\u001b[0m \u001b[0;34m=\u001b[0m \u001b[0mclient\u001b[0m\u001b[0;34m.\u001b[0m\u001b[0mget\u001b[0m\u001b[0;34m(\u001b[0m\u001b[0msocrata_dataset_identifier\u001b[0m\u001b[0;34m,\u001b[0m \u001b[0mquery\u001b[0m\u001b[0;34m=\u001b[0m\u001b[0mquery\u001b[0m\u001b[0;34m)\u001b[0m\u001b[0;34m\u001b[0m\u001b[0;34m\u001b[0m\u001b[0m\n\u001b[0m\u001b[1;32m     12\u001b[0m \u001b[0mresults\u001b[0m\u001b[0;34m\u001b[0m\u001b[0;34m\u001b[0m\u001b[0m\n\u001b[1;32m     13\u001b[0m \u001b[0;34m\u001b[0m\u001b[0m\n",
      "\u001b[0;31mNameError\u001b[0m: name 'socrata_dataset_identifier' is not defined"
     ]
    }
   ],
   "source": [
    "query = \"\"\"\n",
    "select\n",
    "    incident type,\n",
    "    offense date\n",
    "where\n",
    "    report date between 01/01/2020 and 01/03/2020\n",
    "limit\n",
    "    5\n",
    "\"\"\"\n",
    "\n",
    "results = client.get(socrata_dataset_identifier, query=query)\n",
    "results\n",
    "\n",
    "sodapysite = 'https://github.com/xmunoz/sodapy/blob/master/examples/soql_queries.ipynb'\n"
   ]
  },
  {
   "cell_type": "code",
   "execution_count": null,
   "metadata": {},
   "outputs": [],
   "source": []
  }
 ],
 "metadata": {
  "kernelspec": {
   "display_name": "Python 3",
   "language": "python",
   "name": "python3"
  },
  "language_info": {
   "codemirror_mode": {
    "name": "ipython",
    "version": 3
   },
   "file_extension": ".py",
   "mimetype": "text/x-python",
   "name": "python",
   "nbconvert_exporter": "python",
   "pygments_lexer": "ipython3",
   "version": "3.7.1"
  }
 },
 "nbformat": 4,
 "nbformat_minor": 2
}
